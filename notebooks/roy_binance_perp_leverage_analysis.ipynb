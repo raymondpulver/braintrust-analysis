{
 "cells": [
  {
   "cell_type": "markdown",
   "metadata": {},
   "source": [
    "## Backtest analysis of funding gains of Binance perps at various leverage levels\n",
    "\n",
    "Perpetual futures have a `funding rate` that is applied to user balances based on the deviation between the traded prices of the future product and the price of the target index (usually the prices on a spot exchange). The `funding rate` is used to tether the price of the future to the price of the target index. If the future's price tends to be above the price of the target index over the previous lookback period (usually defined as 8 hours), the `funding rate` is positive and longs pay shorts. If the price of the future tends to be below the price of the target index over the previous lookback period, the `funding rate` is negative and shorts pay longs.\n",
    "\n",
    "For Binance and Bitmex, the `funding rate` defaults to a base rate (currently 0.01%; ~11% APR) if the average difference between the future's price and the index price is within a band (plus/minus 5 bp) around zero. Additionally, retail traders tend to be more bullish then bearish. The `funding rate` also tends to be decently correlated to market conditions (more positive in strong bullish markets and negative in bearish markets).\n",
    "\n",
    "Hypothesis: A market neutral strategy of shorting (potentially with leverage) perpetual futures and hedging by going long in the spot, leveraged token, or dated futures market will outperform on a risk-adjusted basis, particularly if the underlying crypto market turns strongly bullish.\n"
   ]
  },
  {
   "cell_type": "markdown",
   "metadata": {},
   "source": [
    "### Analysis Goals\n",
    "\n",
    "* Backtest net returns over the various Binance perpetual swap futures products, assuming variable amounts of leverage and trade sizes\n",
    "* Backtest/analyze the \"safety\" of a position, at various levels of leverage, across various market conditions. Forced liquidation should be strongly avoided.\n",
    "* Analyze funding rate outliers and understand how consistent the funding rate trends are. For example, does an alt perp trading pair's funding rate typically stay elevated above 0.01% for more than 1 funding period? 2? 3?\n",
    "* Understand how frequent the funding rates flip between positive and negative so we can analyze trade volume for both futures and spot hedging. The less frequent we trade, the more pnl, but less volume we are driving to synths via hedging."
   ]
  },
  {
   "cell_type": "code",
   "execution_count": null,
   "metadata": {},
   "outputs": [],
   "source": []
  }
 ],
 "metadata": {
  "kernelspec": {
   "display_name": "Python 3",
   "language": "python",
   "name": "python3"
  },
  "language_info": {
   "codemirror_mode": {
    "name": "ipython",
    "version": 3
   },
   "file_extension": ".py",
   "mimetype": "text/x-python",
   "name": "python",
   "nbconvert_exporter": "python",
   "pygments_lexer": "ipython3",
   "version": "3.7.6"
  }
 },
 "nbformat": 4,
 "nbformat_minor": 4
}
