{
 "cells": [
  {
   "cell_type": "markdown",
   "metadata": {},
   "source": [
    "# Analysis of Perp Futures Funding Rates "
   ]
  },
  {
   "cell_type": "code",
   "execution_count": 1,
   "metadata": {},
   "outputs": [
    {
     "name": "stdout",
     "output_type": "stream",
     "text": [
      "APR corresponding to a 8-hour rate of 0.0100% is 11.5714%\n"
     ]
    }
   ],
   "source": [
    "#\n",
    "# Daily to Yearly Interest Calculation\n",
    "#\n",
    "r = .01  #8-hour interest rate %\n",
    "r = (r / 100)  \n",
    "\n",
    "import math\n",
    "apr = math.pow(r+1, 365*3) - 1\n",
    "print(\"APR corresponding to a 8-hour rate of %.4f%% is %.4f%%\" % (r * 100, apr * 100))"
   ]
  },
  {
   "cell_type": "code",
   "execution_count": 2,
   "metadata": {},
   "outputs": [],
   "source": [
    "#Need to restart kernel for notebook plotting preferences to be implemented\n",
    "import pandas as pd\n",
    "import numpy as np\n",
    "import datetime\n",
    "\n",
    "#Use this for inline\n",
    "#%matplotlib inline\n",
    "#%matplotlib qt\n",
    "#%matplotlib notebook\n",
    "\n",
    "#Use this for popout images\n",
    "%matplotlib tk  \n",
    "\n",
    "import matplotlib.pyplot as plt"
   ]
  },
  {
   "cell_type": "code",
   "execution_count": 3,
   "metadata": {},
   "outputs": [],
   "source": [
    "import sys\n",
    "sys.path.append('..')\n",
    "import utils.fetchBars as fetchBars"
   ]
  },
  {
   "cell_type": "markdown",
   "metadata": {},
   "source": [
    "## Read-in Bitmex Data\n",
    "\n",
    "Read, from a local SQL db, one minute bar data and funding rate data for XBTUSD."
   ]
  },
  {
   "cell_type": "code",
   "execution_count": 4,
   "metadata": {},
   "outputs": [],
   "source": [
    "#XBTUSD price data\n",
    "df_perp_bars = fetchBars.readBarsDB_pd('XBTUSD', 'bitmex')\n"
   ]
  },
  {
   "cell_type": "code",
   "execution_count": 5,
   "metadata": {},
   "outputs": [
    {
     "data": {
      "text/html": [
       "<div>\n",
       "<style scoped>\n",
       "    .dataframe tbody tr th:only-of-type {\n",
       "        vertical-align: middle;\n",
       "    }\n",
       "\n",
       "    .dataframe tbody tr th {\n",
       "        vertical-align: top;\n",
       "    }\n",
       "\n",
       "    .dataframe thead th {\n",
       "        text-align: right;\n",
       "    }\n",
       "</style>\n",
       "<table border=\"1\" class=\"dataframe\">\n",
       "  <thead>\n",
       "    <tr style=\"text-align: right;\">\n",
       "      <th></th>\n",
       "      <th>O</th>\n",
       "      <th>H</th>\n",
       "      <th>L</th>\n",
       "      <th>C</th>\n",
       "      <th>V</th>\n",
       "    </tr>\n",
       "    <tr>\n",
       "      <th>ts</th>\n",
       "      <th></th>\n",
       "      <th></th>\n",
       "      <th></th>\n",
       "      <th></th>\n",
       "      <th></th>\n",
       "    </tr>\n",
       "  </thead>\n",
       "  <tbody>\n",
       "    <tr>\n",
       "      <th>2020-06-02 17:12:00+00:00</th>\n",
       "      <td>9473.5</td>\n",
       "      <td>9477.0</td>\n",
       "      <td>9473.5</td>\n",
       "      <td>9477.0</td>\n",
       "      <td>386390.0</td>\n",
       "    </tr>\n",
       "    <tr>\n",
       "      <th>2020-06-02 17:13:00+00:00</th>\n",
       "      <td>9477.0</td>\n",
       "      <td>9477.0</td>\n",
       "      <td>9476.5</td>\n",
       "      <td>9476.5</td>\n",
       "      <td>208012.0</td>\n",
       "    </tr>\n",
       "    <tr>\n",
       "      <th>2020-06-02 17:14:00+00:00</th>\n",
       "      <td>9476.5</td>\n",
       "      <td>9477.0</td>\n",
       "      <td>9476.5</td>\n",
       "      <td>9477.0</td>\n",
       "      <td>711751.0</td>\n",
       "    </tr>\n",
       "  </tbody>\n",
       "</table>\n",
       "</div>"
      ],
      "text/plain": [
       "                                O       H       L       C         V\n",
       "ts                                                                 \n",
       "2020-06-02 17:12:00+00:00  9473.5  9477.0  9473.5  9477.0  386390.0\n",
       "2020-06-02 17:13:00+00:00  9477.0  9477.0  9476.5  9476.5  208012.0\n",
       "2020-06-02 17:14:00+00:00  9476.5  9477.0  9476.5  9477.0  711751.0"
      ]
     },
     "execution_count": 5,
     "metadata": {},
     "output_type": "execute_result"
    }
   ],
   "source": [
    "df_perp_bars.tail(3)"
   ]
  },
  {
   "cell_type": "code",
   "execution_count": 6,
   "metadata": {},
   "outputs": [],
   "source": [
    "#XBTUSD funding info\n",
    "df_F = fetchBars.fetchFundingData('XBTUSD', 'bitmex', startTS = datetime.datetime(2018,1,1))\n",
    "df_F['fund_rate'] = df_F['fund_rate'] * 100"
   ]
  },
  {
   "cell_type": "code",
   "execution_count": 7,
   "metadata": {},
   "outputs": [
    {
     "data": {
      "text/html": [
       "<div>\n",
       "<style scoped>\n",
       "    .dataframe tbody tr th:only-of-type {\n",
       "        vertical-align: middle;\n",
       "    }\n",
       "\n",
       "    .dataframe tbody tr th {\n",
       "        vertical-align: top;\n",
       "    }\n",
       "\n",
       "    .dataframe thead th {\n",
       "        text-align: right;\n",
       "    }\n",
       "</style>\n",
       "<table border=\"1\" class=\"dataframe\">\n",
       "  <thead>\n",
       "    <tr style=\"text-align: right;\">\n",
       "      <th></th>\n",
       "      <th>fund_rate</th>\n",
       "    </tr>\n",
       "    <tr>\n",
       "      <th>ts</th>\n",
       "      <th></th>\n",
       "    </tr>\n",
       "  </thead>\n",
       "  <tbody>\n",
       "    <tr>\n",
       "      <th>2020-06-02 00:00:00+00:00</th>\n",
       "      <td>0.0100</td>\n",
       "    </tr>\n",
       "    <tr>\n",
       "      <th>2020-06-02 08:00:00+00:00</th>\n",
       "      <td>0.0100</td>\n",
       "    </tr>\n",
       "    <tr>\n",
       "      <th>2020-06-02 16:00:00+00:00</th>\n",
       "      <td>0.1644</td>\n",
       "    </tr>\n",
       "  </tbody>\n",
       "</table>\n",
       "</div>"
      ],
      "text/plain": [
       "                           fund_rate\n",
       "ts                                  \n",
       "2020-06-02 00:00:00+00:00     0.0100\n",
       "2020-06-02 08:00:00+00:00     0.0100\n",
       "2020-06-02 16:00:00+00:00     0.1644"
      ]
     },
     "execution_count": 7,
     "metadata": {},
     "output_type": "execute_result"
    }
   ],
   "source": [
    "df_F.tail(3)"
   ]
  },
  {
   "cell_type": "markdown",
   "metadata": {},
   "source": [
    "## Analysis/Visualization of Funding Rate and Price - Bitmex"
   ]
  },
  {
   "cell_type": "code",
   "execution_count": 8,
   "metadata": {},
   "outputs": [
    {
     "data": {
      "text/html": [
       "<div>\n",
       "<style scoped>\n",
       "    .dataframe tbody tr th:only-of-type {\n",
       "        vertical-align: middle;\n",
       "    }\n",
       "\n",
       "    .dataframe tbody tr th {\n",
       "        vertical-align: top;\n",
       "    }\n",
       "\n",
       "    .dataframe thead th {\n",
       "        text-align: right;\n",
       "    }\n",
       "</style>\n",
       "<table border=\"1\" class=\"dataframe\">\n",
       "  <thead>\n",
       "    <tr style=\"text-align: right;\">\n",
       "      <th></th>\n",
       "      <th>fund_rate</th>\n",
       "      <th>F_sum</th>\n",
       "      <th>zero</th>\n",
       "      <th>xbtusd_price</th>\n",
       "    </tr>\n",
       "    <tr>\n",
       "      <th>ts</th>\n",
       "      <th></th>\n",
       "      <th></th>\n",
       "      <th></th>\n",
       "      <th></th>\n",
       "    </tr>\n",
       "  </thead>\n",
       "  <tbody>\n",
       "    <tr>\n",
       "      <th>2020-06-01 08:00:00+00:00</th>\n",
       "      <td>0.0100</td>\n",
       "      <td>-2.1835</td>\n",
       "      <td>0</td>\n",
       "      <td>9564.0</td>\n",
       "    </tr>\n",
       "    <tr>\n",
       "      <th>2020-06-01 16:00:00+00:00</th>\n",
       "      <td>0.0100</td>\n",
       "      <td>-2.1735</td>\n",
       "      <td>0</td>\n",
       "      <td>9545.0</td>\n",
       "    </tr>\n",
       "    <tr>\n",
       "      <th>2020-06-02 00:00:00+00:00</th>\n",
       "      <td>0.0100</td>\n",
       "      <td>-2.1635</td>\n",
       "      <td>0</td>\n",
       "      <td>10250.5</td>\n",
       "    </tr>\n",
       "    <tr>\n",
       "      <th>2020-06-02 08:00:00+00:00</th>\n",
       "      <td>0.0100</td>\n",
       "      <td>-2.1535</td>\n",
       "      <td>0</td>\n",
       "      <td>10123.0</td>\n",
       "    </tr>\n",
       "    <tr>\n",
       "      <th>2020-06-02 16:00:00+00:00</th>\n",
       "      <td>0.1644</td>\n",
       "      <td>-1.9891</td>\n",
       "      <td>0</td>\n",
       "      <td>9449.0</td>\n",
       "    </tr>\n",
       "  </tbody>\n",
       "</table>\n",
       "</div>"
      ],
      "text/plain": [
       "                           fund_rate   F_sum  zero  xbtusd_price\n",
       "ts                                                              \n",
       "2020-06-01 08:00:00+00:00     0.0100 -2.1835     0        9564.0\n",
       "2020-06-01 16:00:00+00:00     0.0100 -2.1735     0        9545.0\n",
       "2020-06-02 00:00:00+00:00     0.0100 -2.1635     0       10250.5\n",
       "2020-06-02 08:00:00+00:00     0.0100 -2.1535     0       10123.0\n",
       "2020-06-02 16:00:00+00:00     0.1644 -1.9891     0        9449.0"
      ]
     },
     "execution_count": 8,
     "metadata": {},
     "output_type": "execute_result"
    }
   ],
   "source": [
    "df_F['F_sum'] = df_F['fund_rate'].cumsum()\n",
    "df_F['zero'] = 0\n",
    "\n",
    "#add close XBTUSD price bars to df_F\n",
    "df_F['xbtusd_price'] = df_perp_bars['C']\n",
    "df_F = df_F.dropna()\n",
    "df_F.tail(5)\n"
   ]
  },
  {
   "cell_type": "code",
   "execution_count": 9,
   "metadata": {},
   "outputs": [
    {
     "data": {
      "text/plain": [
       "<matplotlib.axes._subplots.AxesSubplot at 0x7fccd155dfa0>"
      ]
     },
     "execution_count": 9,
     "metadata": {},
     "output_type": "execute_result"
    }
   ],
   "source": [
    "df_F.loc[:, ['xbtusd_price', 'F_sum', 'zero']].plot(secondary_y = ['F_sum', 'zero'], title = 'Bitmex XBTUSD price v. funding')"
   ]
  },
  {
   "cell_type": "markdown",
   "metadata": {},
   "source": [
    "## Analysis/Visualization of Funding Rate and Price - Binance"
   ]
  },
  {
   "cell_type": "code",
   "execution_count": 10,
   "metadata": {},
   "outputs": [],
   "source": [
    "binance_symbols = ['BTCUSDT', 'ETHUSDT', 'BCHUSDT', 'XRPUSDT', 'EOSUSDT', 'LTCUSDT']"
   ]
  },
  {
   "cell_type": "code",
   "execution_count": 11,
   "metadata": {},
   "outputs": [],
   "source": [
    "#\n",
    "# Read-in perp future price and funding rates for binance products\n",
    "#\n",
    "\n",
    "binance_data = {}\n",
    "for s in binance_symbols:\n",
    "    d = fetchBars.readBarsDB(s, \"binanceFutures\") #Returns dictof (ts, o, h, l, c, v) tuples, indexed by ts\n",
    "    bars_dict = {pd.Timestamp(ts, unit = \"s\"): {'ts': pd.Timestamp(ts, unit = \"s\"), 'c':c} for ts, o, h, l, c, v in d.values()}\n",
    "\n",
    "    #Funding Rates\n",
    "    _df_F = fetchBars.fetchFundingData(s, 'binance', startTS = datetime.datetime(2018,1,1))\n",
    "    _df_F = _df_F.loc[~_df_F.index.duplicated(keep='first')]\n",
    "    values = []\n",
    "    for ts, f_rate in zip(_df_F.index, _df_F['fund_rate'].values):\n",
    "        if ts.tz_convert(None) in bars_dict:\n",
    "            o = bars_dict[ts.tz_convert(None)]\n",
    "            o.update({'fund_rate': f_rate})\n",
    "            values.append(o)\n",
    "\n",
    "    df = pd.DataFrame(values)\n",
    "    df = df.set_index('ts')\n",
    "    df = df.dropna()\n",
    "    df = df.sort_index()     \n",
    "    \n",
    "    binance_data[s] = df"
   ]
  },
  {
   "cell_type": "markdown",
   "metadata": {},
   "source": [
    "#### Plot of Binance Cumulative Funding Rate v. Product Price"
   ]
  },
  {
   "cell_type": "code",
   "execution_count": 12,
   "metadata": {},
   "outputs": [],
   "source": [
    "#plot\n",
    "for s, df in binance_data.items():\n",
    "    df['fund_sum'] = df['fund_rate']*100\n",
    "    df['fund_sum'] = df['fund_sum'].cumsum()\n",
    "\n",
    "    title = 'Binance perp ' + s + ' price v. funding (cumulative sum, percent)'\n",
    "    df.loc[:, ['c', 'fund_sum']].plot(secondary_y = ['fund_sum'], title = title)"
   ]
  },
  {
   "cell_type": "markdown",
   "metadata": {},
   "source": [
    "#### Plot of Funding Rates over Time"
   ]
  },
  {
   "cell_type": "code",
   "execution_count": 13,
   "metadata": {},
   "outputs": [],
   "source": [
    "SYMBOL = 'ETHUSDT'\n",
    "\n",
    "df = binance_data[SYMBOL]\n",
    "df['fund_rate'] = df['fund_rate'] * 100 # convert to percent\n",
    "df['zero'] = 0\n"
   ]
  },
  {
   "cell_type": "code",
   "execution_count": 14,
   "metadata": {},
   "outputs": [
    {
     "data": {
      "text/plain": [
       "<matplotlib.axes._subplots.AxesSubplot at 0x7fccc1e549d0>"
      ]
     },
     "execution_count": 14,
     "metadata": {},
     "output_type": "execute_result"
    }
   ],
   "source": [
    "#\n",
    "# line graph of funding rate over time\n",
    "#\n",
    "title = \"Binance perp 8-hour funding rate (percent) - \" + SYMBOL\n",
    "df.loc[:, ['fund_rate', 'zero']].plot(title = title)"
   ]
  },
  {
   "cell_type": "code",
   "execution_count": null,
   "metadata": {},
   "outputs": [],
   "source": []
  }
 ],
 "metadata": {
  "kernelspec": {
   "display_name": "Python 3",
   "language": "python",
   "name": "python3"
  },
  "language_info": {
   "codemirror_mode": {
    "name": "ipython",
    "version": 3
   },
   "file_extension": ".py",
   "mimetype": "text/x-python",
   "name": "python",
   "nbconvert_exporter": "python",
   "pygments_lexer": "ipython3",
   "version": "3.8.2"
  }
 },
 "nbformat": 4,
 "nbformat_minor": 4
}
